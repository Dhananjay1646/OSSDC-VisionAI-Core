{
  "nbformat": 4,
  "nbformat_minor": 0,
  "metadata": {
    "accelerator": "GPU",
    "colab": {
      "name": "Copy of OSSDC-VisionAI-demo-reel.ipynb",
      "provenance": [],
      "collapsed_sections": [],
      "toc_visible": true
    },
    "kernelspec": {
      "display_name": "Python 3",
      "name": "python3"
    }
  },
  "cells": [
    {
      "cell_type": "code",
      "metadata": {
        "id": "OcfOp7TqM94Y"
      },
      "source": [
        "# Demos of https://github.com/OSSDC/OSSDC-VisionAI-Core project\n",
        "#\n",
        "# Run this notebook in Google Colab or on your own machine it requires a GPU for certain algorithms, see project page for more details\n",
        "#\n",
        "# On your Android phone/tablet/media player run the latest OSSDC Vision AI Mobile app, download and install it from here:\n",
        "# https://github.com/OSSDC/OSSDC-VisionAI-Mobile/releases/"
      ],
      "execution_count": null,
      "outputs": []
    },
    {
      "cell_type": "code",
      "metadata": {
        "id": "L9C598G3lsh6"
      },
      "source": [
        "!pip install qrcode"
      ],
      "execution_count": null,
      "outputs": []
    },
    {
      "cell_type": "code",
      "metadata": {
        "id": "aEzOrU7ffIiL"
      },
      "source": [
        "import requests\r\n",
        "import re\r\n",
        "\r\n",
        "response = requests.get('https://github.com/OSSDC/OSSDC-VisionAI-Mobile/releases')\r\n",
        "data = response.text\r\n",
        "\r\n",
        "appURL = 'https://github.com/OSSDC/OSSDC-VisionAI-Mobile/releases/download/1.0/OSSDC_VisionAI.apk'\r\n",
        "\r\n",
        "# Find latest app version download URL\r\n",
        "for line in data.split('\\n'):\r\n",
        "  if 'apk\"' in line:\r\n",
        "    # print(line)\r\n",
        "    match = re.search('a href=\"(.*)\" rel', line, re.IGNORECASE)\r\n",
        "    if match:\r\n",
        "      appURL = 'https://github.com/'+match.group(1)\r\n",
        "\r\n",
        "    print(appURL)\r\n",
        "    break"
      ],
      "execution_count": null,
      "outputs": []
    },
    {
      "cell_type": "code",
      "metadata": {
        "id": "A2Bv29FkPGVk"
      },
      "source": [
        "import qrcode \r\n",
        "import random\r\n",
        "import string\r\n",
        "from IPython.display import Image\r\n",
        "\r\n",
        "print('Scan the QR code to download latest OSSDC Vision Mobile app on your Android phone/tablet\\n'+appURL)\r\n",
        "\r\n",
        "# Encoding data using make() function \r\n",
        "img = qrcode.make(appURL)\r\n",
        "  \r\n",
        "# Saving as an image file \r\n",
        "img.save('OSSDCVisionMobileAppURLQRCode.png')\r\n",
        "\r\n",
        "Image(filename='OSSDCVisionMobileAppURLQRCode.png') \r\n"
      ],
      "execution_count": null,
      "outputs": []
    },
    {
      "cell_type": "code",
      "metadata": {
        "id": "4VIPupPhedHT"
      },
      "source": [
        "random_string = ''.join(random.SystemRandom().choice(string.ascii_letters + string.digits) for _ in range(10))\r\n",
        "\r\n",
        "# Data to be encoded \r\n",
        "roomName = 'TestRoom-'+random_string\r\n",
        "print('Room name =', roomName)\r\n",
        "print('\\nLaunch OSSDC VisionAI Mobile app on your Android phone/tablet\\n\\nScan the room QR code and Connect while the packages are installed')\r\n",
        "  \r\n",
        "# Encoding data using make() function \r\n",
        "img = qrcode.make(roomName) \r\n",
        "  \r\n",
        "# Saving as an image file \r\n",
        "img.save('RoomQRCode.png')\r\n",
        "\r\n",
        "Image(filename='RoomQRCode.png') "
      ],
      "execution_count": null,
      "outputs": []
    },
    {
      "cell_type": "code",
      "metadata": {
        "id": "nrx-vaEQq1P_"
      },
      "source": [
        "!pip install aiortc aiohttp websockets python-engineio==3.14.2 python-socketio[client]==4.6.0 youtube-dl"
      ],
      "execution_count": null,
      "outputs": []
    },
    {
      "cell_type": "code",
      "metadata": {
        "id": "inLCNr0zlMkU"
      },
      "source": [
        "# Install OSSDC-VisionAI-Core"
      ],
      "execution_count": null,
      "outputs": []
    },
    {
      "cell_type": "code",
      "metadata": {
        "id": "5x1c7DdmNCl8"
      },
      "source": [
        "!git clone https://github.com/OSSDC/OSSDC-VisionAI-Core"
      ],
      "execution_count": null,
      "outputs": []
    },
    {
      "cell_type": "code",
      "metadata": {
        "id": "M5FkrBW2lQQS"
      },
      "source": [
        "# Install MiDaS algorithm"
      ],
      "execution_count": null,
      "outputs": []
    },
    {
      "cell_type": "code",
      "metadata": {
        "id": "sUobb3cWm2bM"
      },
      "source": [
        "!git clone https://github.com/intel-isl/MiDaS"
      ],
      "execution_count": null,
      "outputs": []
    },
    {
      "cell_type": "code",
      "metadata": {
        "id": "suI2LCgDm2eY"
      },
      "source": [
        "!cd MiDaS/; wget https://github.com/intel-isl/MiDaS/releases/download/v2/model-f46da743.pt"
      ],
      "execution_count": null,
      "outputs": []
    },
    {
      "cell_type": "code",
      "metadata": {
        "id": "d8Wkg2Spm2g7"
      },
      "source": [
        "!cd MiDaS/; wget https://github.com/intel-isl/MiDaS/releases/download/v2_1/model-f6b98070.pt; wget https://github.com/intel-isl/MiDaS/releases/download/v2_1/model-small-70d6b9c8.pt"
      ],
      "execution_count": null,
      "outputs": []
    },
    {
      "cell_type": "code",
      "metadata": {
        "id": "WuomswgglT8a"
      },
      "source": [
        "# Install YOLO 5 algorithm"
      ],
      "execution_count": null,
      "outputs": []
    },
    {
      "cell_type": "code",
      "metadata": {
        "id": "qHuxjNHwm2nn"
      },
      "source": [
        "!wget https://github.com/ultralytics/yolov5/archive/v3.1.zip"
      ],
      "execution_count": null,
      "outputs": []
    },
    {
      "cell_type": "code",
      "metadata": {
        "id": "UAffrihVm2qf"
      },
      "source": [
        "!unzip v3.1.zip"
      ],
      "execution_count": null,
      "outputs": []
    },
    {
      "cell_type": "code",
      "metadata": {
        "id": "W52AEq2PzDhy"
      },
      "source": [
        "!ln -s yolov5-3.1 yolo5"
      ],
      "execution_count": null,
      "outputs": []
    },
    {
      "cell_type": "code",
      "metadata": {
        "id": "ZfXoNVsKM4Ta"
      },
      "source": [
        "# Run realtime live demos\n",
        "#\n",
        "# Start the OSSDC Vision AI Mobile app\n",
        "# Update {your-room-name} bellow with the room name you set in the app or scann it\n",
        "# Run the app and Connect to the room\n",
        "# Run one of the cells bellow and see the results in real time on your phone\n",
        "\n",
        "# Update demo-reel.sh file to enamble YOLO 5 or MiDaS algorithms, default is Edge"
      ],
      "execution_count": null,
      "outputs": []
    },
    {
      "cell_type": "code",
      "metadata": {
        "id": "oLRdYEVrM0E3"
      },
      "source": [
        "# Make sure the OSSDC Vision AI Mobile app is connected to the same room\r\n",
        "print(\"Room name\",roomName)\r\n",
        "\r\n",
        "# Run video processing on your Android phone/tablet camera video stream\r\n",
        "!cd OSSDC-VisionAI-Core; bash demo-reel.sh {roomName} direct"
      ],
      "execution_count": null,
      "outputs": []
    },
    {
      "cell_type": "code",
      "metadata": {
        "id": "xpy9QHe7Mzy7"
      },
      "source": [
        "# Make sure the OSSDC Vision AI Mobile app is connected to the same room\r\n",
        "print(\"Room name\",roomName)\r\n",
        "\r\n",
        "# Run video processing on a YouTube video stream\r\n",
        "!cd OSSDC-VisionAI-Core; bash demo-reel.sh {roomName} `youtube-dl -f 22 -g https://www.youtube.com/watch?v=dqnjHqwP68Y`"
      ],
      "execution_count": null,
      "outputs": []
    },
    {
      "cell_type": "code",
      "metadata": {
        "id": "Qv0-5xPTlTPq"
      },
      "source": [
        "# This is required for yolact to compile DCNv2_latest\r\n",
        "!pip torch==1.6 torchvision==0.7 cython pillow pycocotools matplotlib "
      ],
      "execution_count": null,
      "outputs": []
    },
    {
      "cell_type": "code",
      "metadata": {
        "id": "cVSGfirIlGay"
      },
      "source": [
        "# Install and try the YOLACT algorithm"
      ],
      "execution_count": null,
      "outputs": []
    },
    {
      "cell_type": "code",
      "metadata": {
        "id": "f-4zC9j-jD4o"
      },
      "source": [
        "!git clone https://github.com/dbolya/yolact"
      ],
      "execution_count": null,
      "outputs": []
    },
    {
      "cell_type": "code",
      "metadata": {
        "id": "F-h44TSJr4X1"
      },
      "source": [
        "# Download yolact model\r\n",
        "# https://drive.google.com/file/d/1ZPu1YR2UzGHQD0o1rEqy-j5bmEm3lbyP/view?usp=sharing\r\n",
        "\r\n",
        "!gdown --id 1ZPu1YR2UzGHQD0o1rEqy-j5bmEm3lbyP\r\n",
        "\r\n",
        "!mkdir -p yolact/weights; mv yolact_plus_resnet50_54_800000.pth yolact/weights/"
      ],
      "execution_count": null,
      "outputs": []
    },
    {
      "cell_type": "code",
      "metadata": {
        "id": "wB1tCpD6jeLd"
      },
      "source": [
        "!git clone https://github.com/jinfagang/DCNv2_latest"
      ],
      "execution_count": null,
      "outputs": []
    },
    {
      "cell_type": "code",
      "metadata": {
        "id": "poKXjjWxjluH"
      },
      "source": [
        "!cd DCNv2_latest;./make.sh"
      ],
      "execution_count": null,
      "outputs": []
    },
    {
      "cell_type": "code",
      "metadata": {
        "id": "yJlpG2uHk1fL"
      },
      "source": [
        "# Update demo-reel.sh file to enable YOLACT algorithm, default is OpenCV Edge"
      ],
      "execution_count": null,
      "outputs": []
    },
    {
      "cell_type": "code",
      "metadata": {
        "id": "oCSFdqE7kWIn"
      },
      "source": [
        "# Make sure the OSSDC Vision AI Mobile app is connected to the same room\r\n",
        "print(\"Room name\",roomName)\r\n",
        "\r\n",
        "# Run video processing on your Android phone/tablet camera video stream\r\n",
        "!cd OSSDC-VisionAI-Core; bash demo-reel.sh {roomName} direct"
      ],
      "execution_count": null,
      "outputs": []
    },
    {
      "cell_type": "code",
      "metadata": {
        "id": "GhtZZgL5j5gy"
      },
      "source": [
        "# Make sure the OSSDC Vision AI Mobile app is connected to the same room\r\n",
        "print(\"Room name\",roomName)\r\n",
        "\r\n",
        "# Run video processing on a YouTube video stream\r\n",
        "!cd OSSDC-VisionAI-Core; bash demo-reel.sh {roomName} `youtube-dl -f 22 -g https://www.youtube.com/watch?v=dqnjHqwP68Y`"
      ],
      "execution_count": null,
      "outputs": []
    }
  ]
}